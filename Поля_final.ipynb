{
  "nbformat": 4,
  "nbformat_minor": 0,
  "metadata": {
    "colab": {
      "provenance": []
    },
    "kernelspec": {
      "name": "python3",
      "display_name": "Python 3"
    },
    "language_info": {
      "name": "python"
    }
  },
  "cells": [
    {
      "cell_type": "code",
      "execution_count": null,
      "metadata": {
        "id": "_wGUDJe0emiT"
      },
      "outputs": [],
      "source": [
        "from google.colab import drive\n",
        "drive.mount('/content/drive')"
      ]
    },
    {
      "cell_type": "code",
      "source": [
        "0 - подсолнечник\n",
        "1 - картофель\n",
        "2 - пшеница озимая\n",
        "3 - гречиха\n",
        "4 - кукуруза\n",
        "5 - пшеница яровая\n",
        "6 - сахарная свекла"
      ],
      "metadata": {
        "id": "De0jX9_ae-ni"
      },
      "execution_count": null,
      "outputs": []
    },
    {
      "cell_type": "code",
      "source": [
        "import pandas as pd\n",
        "import seaborn as sns\n",
        "import matplotlib.pyplot as plt\n",
        "from sklearn.model_selection import train_test_split\n",
        "from sklearn.ensemble import RandomForestClassifier\n",
        "\n",
        "%matplotlib inline"
      ],
      "metadata": {
        "id": "FkWRjUQIih-G"
      },
      "execution_count": null,
      "outputs": []
    },
    {
      "cell_type": "code",
      "source": [
        "# загрузка данных\n",
        "df = pd.read_csv(\"/content/drive/MyDrive/Fields_Inop/last_train.csv\")\n",
        "df_test = pd.read_csv(\"/content/drive/MyDrive/Fields_Inop/last_test.csv\")"
      ],
      "metadata": {
        "id": "VefUim6zik8K"
      },
      "execution_count": null,
      "outputs": []
    },
    {
      "cell_type": "markdown",
      "source": [
        "Патчинг предобработанных данных"
      ],
      "metadata": {
        "id": "hRHGFJbOjCqK"
      }
    },
    {
      "cell_type": "code",
      "source": [
        "#region patch\n",
        "reg_patch = {133:\"Тульская\",\n",
        "             433:\"Казахстан\",\n",
        "             644:\"Туркменистан\",\n",
        "             797:\"Брянская\",\n",
        "             1121:\"Брянская\",\n",
        "             1218:\"Татарстан\",\n",
        "             1897:\"Татарстан\",\n",
        "             2280:\"Узбекистан\",\n",
        "             3455:\"Туркменистан\",\n",
        "             3484:\"Липетская\",\n",
        "             3858:\"Татарстан\",\n",
        "             3969:\"Украина\",\n",
        "             4426:\"Туркменистан\",\n",
        "             4565:\"Туркменистан\",\n",
        "             4779:\"Туркменистан\",\n",
        "             }\n",
        "for k in reg_patch:\n",
        "    print (k,reg_patch[k])\n",
        "    df[\"region\"][k]=reg_patch[k]"
      ],
      "metadata": {
        "id": "Di0dlVEli3KS"
      },
      "execution_count": null,
      "outputs": []
    },
    {
      "cell_type": "code",
      "source": [
        "#full_region patch\n",
        "df['full_region'][1351]= \"Аргамач-Пальна, Липецкая область, Россия, 399758\"\n",
        "df['full_region'][1417]=\"Хворостянка, Липецкая область, Россия, 399419\"\n",
        "df['full_region'][2214]=\"«Дон», Тульская область, Россия\"\n",
        "df['full_region'][3484]=\"Хворостянский сельсовет, Добренский район, Россия\""
      ],
      "metadata": {
        "id": "VBpAyVW_jOQq"
      },
      "execution_count": null,
      "outputs": []
    },
    {
      "cell_type": "markdown",
      "source": [
        "Расширение данных"
      ],
      "metadata": {
        "id": "m6KfIsKJj_dh"
      }
    },
    {
      "cell_type": "code",
      "source": [
        "pip install -q  reverse-geocode"
      ],
      "metadata": {
        "id": "uDfj5nTXj-R9"
      },
      "execution_count": null,
      "outputs": []
    },
    {
      "cell_type": "code",
      "source": [
        "import reverse_geocode as rg\n",
        "import json\n",
        "from tqdm import tqdm\n",
        "g_d =[]\n",
        "items= df[\".geo\"].tolist()\n",
        "for item in tqdm(items):\n",
        "    data = json.loads(item)\n",
        "    if data[\"type\"] == \"Polygon\":\n",
        "        #print (data[\"coordinates\"][0][0])\n",
        "        coords= data[\"coordinates\"][0][0]\n",
        "        latitude = coords[1]\n",
        "        longitude = coords[0]\n",
        "        coordinates=(latitude,longitude)\n",
        "        location = rg.search([coordinates])\n",
        "        g_d.append(location[0][\"city\"])\n",
        "    elif data[\"type\"] == \"MultiPolygon\":\n",
        "        coords= data[\"coordinates\"][0][0][0]\n",
        "        latitude = coords[1]\n",
        "        longitude = coords[0]\n",
        "        coordinates=(latitude,longitude)\n",
        "        location = rg.search([coordinates])\n",
        "        g_d.append(location[0][\"city\"])\n",
        "    elif data[\"type\"] == \"GeometryCollection\":\n",
        "        geom = data[\"geometries\"]\n",
        "        coords= geom[0][\"coordinates\"][0]\n",
        "        latitude = coords[1]\n",
        "        longitude = coords[0]\n",
        "        coordinates=(latitude,longitude)\n",
        "        location = rg.search([coordinates])\n",
        "        g_d.append(location[0][\"city\"])\n",
        "    else:\n",
        "        g_d.append(\"ошибка\")\n",
        "        print (\"неизвестный тип данных geojson ошибка\")"
      ],
      "metadata": {
        "id": "aO6S2hsvjdOa"
      },
      "execution_count": null,
      "outputs": []
    },
    {
      "cell_type": "code",
      "source": [
        "#Город поставки\n",
        "df[\"city\"]=g_d"
      ],
      "metadata": {
        "id": "h4fAsVRHkOu8"
      },
      "execution_count": null,
      "outputs": []
    },
    {
      "cell_type": "code",
      "source": [
        "import json\n",
        "from tqdm import tqdm\n",
        "def get_coords (df_geo):\n",
        "    lat =[]\n",
        "    lon = []\n",
        "    items= df_geo[\".geo\"].tolist()\n",
        "    for item in items:\n",
        "        data = json.loads(item)\n",
        "        if data[\"type\"] == \"Polygon\":\n",
        "            #print (data[\"coordinates\"][0][0])\n",
        "            coords= data[\"coordinates\"][0][0]\n",
        "            latitude = coords[1]\n",
        "            longitude = coords[0]\n",
        "            lat.append(latitude)\n",
        "            lon.append(longitude)\n",
        "        elif data[\"type\"] == \"MultiPolygon\":\n",
        "            coords= data[\"coordinates\"][0][0][0]\n",
        "            latitude = coords[1]\n",
        "            longitude = coords[0]\n",
        "            lat.append(latitude)\n",
        "            lon.append(longitude)\n",
        "            \n",
        "        elif data[\"type\"] == \"GeometryCollection\":\n",
        "            geom = data[\"geometries\"]\n",
        "            coords= geom[0][\"coordinates\"][0]\n",
        "            latitude = coords[1]\n",
        "            longitude = coords[0]\n",
        "            lat.append(latitude)\n",
        "            lon.append(longitude)\n",
        "            \n",
        "        else:\n",
        "            print (\"неизвестный тип данных geojson\")\n",
        "    return lat,lon"
      ],
      "metadata": {
        "id": "TJVUnX4mkddG"
      },
      "execution_count": null,
      "outputs": []
    },
    {
      "cell_type": "code",
      "source": [
        "#Вычисление медианы координат\n",
        "import statistics\n",
        "def get_geomedian(lat,lon):\n",
        "    median=[]\n",
        "    get_coords\n",
        "    for lati,longi in zip (lat,lon):\n",
        "        median.append (statistics.median([lati,longi]))\n",
        "    return median\n",
        "\n",
        "lat,lon= get_coords(df)\n",
        "df[\"geo_median\"]=get_geomedian(lat,lon)\n",
        "lat,lon= get_coords(df_test)\n",
        "df_test[\"geo_median\"]=get_geomedian(lat,lon)"
      ],
      "metadata": {
        "id": "mfW8RJBfklJ-"
      },
      "execution_count": null,
      "outputs": []
    },
    {
      "cell_type": "code",
      "source": [
        "#Создание Full_region features\n",
        "from geopy.geocoders import Nominatim\n",
        "import json\n",
        "# initialize Nominatim API \n",
        "geolocator = Nominatim(user_agent=\"geoapifields\")\n",
        "from tqdm import tqdm\n",
        "g_d =[]\n",
        "items= df[\".geo\"].tolist()\n",
        "for item in tqdm(items):\n",
        "    data = json.loads(item)\n",
        "    if data[\"type\"] == \"Polygon\":\n",
        "        #print (data[\"coordinates\"][0][0])\n",
        "        coords= data[\"coordinates\"][0][0]\n",
        "        latitude = str(coords[1])\n",
        "        longitude = str(coords[0])\n",
        "        location = geolocator.reverse(latitude+\",\"+longitude)\n",
        "        g_d.append(location[0])\n",
        "    elif data[\"type\"] == \"MultiPolygon\":\n",
        "        coords= data[\"coordinates\"][0][0]\n",
        "        latitude = str(coords[1])\n",
        "        longitude = str(coords[0])\n",
        "        location = geolocator.reverse(latitude+\",\"+longitude)\n",
        "        g_d.append(location[0])\n",
        "    elif data[\"type\"] == \"GeometryCollection\":\n",
        "        geom = data[\"geometries\"]\n",
        "        coords= geom[0][\"coordinates\"][0]\n",
        "        latitude = str(coords[1])\n",
        "        longitude = str(coords[0])\n",
        "        location = geolocator.reverse(latitude+\",\"+longitude)\n",
        "        g_d.append(location[0])\n",
        "    else:\n",
        "        g_d.append(\"ошибка\")\n",
        "        print (\"неизвестный тип данных geojson\")\n",
        "df_test[\"full_region\"] = g_d\n",
        "print (df_test['full_region'].isnull().sum())\n",
        "df_test[\"full_region\"].fillna('ошибка', inplace=True)\n",
        "df_test.to_csv(\"/content/drive/MyDrive/Fields_Inop/new_test.csv\",index=False)"
      ],
      "metadata": {
        "id": "KegoGV9sp-zQ"
      },
      "execution_count": null,
      "outputs": []
    },
    {
      "cell_type": "markdown",
      "source": [
        "++++++ CatBoost"
      ],
      "metadata": {
        "id": "74qeSjXYlN2J"
      }
    },
    {
      "cell_type": "code",
      "source": [
        "!pip -q install catboost"
      ],
      "metadata": {
        "id": "cjc3RolMk6dJ"
      },
      "execution_count": null,
      "outputs": []
    },
    {
      "cell_type": "code",
      "source": [
        "import pandas as pd\n",
        "from pandas.api.types import is_numeric_dtype\n",
        "from sklearn.model_selection import train_test_split\n",
        "import catboost as cb\n",
        "from sklearn.metrics import classification_report\n",
        "import matplotlib.pyplot as plt\n",
        "import seaborn as sns"
      ],
      "metadata": {
        "id": "-G_z2kFVlTzi"
      },
      "execution_count": null,
      "outputs": []
    },
    {
      "cell_type": "code",
      "source": [
        "#Датасет для обучения\n",
        "X = df.drop([\"id\",\"full_region\",\".geo\",\"crop\",\"area_embeddings\",\"text_len\"], axis = 1)\n",
        "y = df['crop']"
      ],
      "metadata": {
        "id": "U04mSl6nlXrg"
      },
      "execution_count": null,
      "outputs": []
    },
    {
      "cell_type": "markdown",
      "source": [
        "Сначала нам нужно сгенерировать список индексов столбцов, содержащих категориальные данные."
      ],
      "metadata": {
        "id": "jjBf2vYClywP"
      }
    },
    {
      "cell_type": "code",
      "source": [
        "def get_categorical_indicies(X):\n",
        "    cats = []\n",
        "    for col in X.columns:\n",
        "        if is_numeric_dtype(X[col]):\n",
        "            pass\n",
        "        #elif col==\"reg_vectors\":\n",
        "           # pass\n",
        "        else:\n",
        "            cats.append(col)\n",
        "    \n",
        "    cat_indicies = []\n",
        "    for col in cats:\n",
        "        cat_indicies.append(X.columns.get_loc(col))\n",
        "    print (cats)\n",
        "    return cat_indicies\n",
        "categorical_indicies = get_categorical_indicies(X)"
      ],
      "metadata": {
        "id": "oDpxDsD7lty5"
      },
      "execution_count": null,
      "outputs": []
    },
    {
      "cell_type": "markdown",
      "source": [
        "Второе, что нам нужно сделать, это преобразовать все категориальные столбцы в тип данных категории, который требуется Catboost."
      ],
      "metadata": {
        "id": "DZfcllifl9yn"
      }
    },
    {
      "cell_type": "code",
      "source": [
        "def convert_cats(X):\n",
        "    cats = []\n",
        "    for col in X.columns:\n",
        "        if is_numeric_dtype(X[col]):\n",
        "            pass\n",
        "        else:\n",
        "            cats.append(col)\n",
        "    cat_indicies = []\n",
        "    for col in cats:\n",
        "        X[col] = X[col].astype('category')\n",
        "convert_cats(X)"
      ],
      "metadata": {
        "id": "cnqERbufl0cq"
      },
      "execution_count": null,
      "outputs": []
    },
    {
      "cell_type": "markdown",
      "source": [
        "Нам нужно разделить наши данные на два набора данных для обучения и тестирования."
      ],
      "metadata": {
        "id": "i0aXOw39mKbk"
      }
    },
    {
      "cell_type": "code",
      "source": [
        "X_train,X_test,y_train,y_test = train_test_split(X, \n",
        "                                                 y, \n",
        "                                                 test_size=0.25, \n",
        "                                                 random_state=63,\n",
        "                                                 stratify=y,\n",
        "                                                 #shuffle=False\n",
        "                                                 )"
      ],
      "metadata": {
        "id": "S6h_ZkEsmGlt"
      },
      "execution_count": null,
      "outputs": []
    },
    {
      "cell_type": "markdown",
      "source": [
        "Обучение"
      ],
      "metadata": {
        "id": "SCXqIrc0mV5H"
      }
    },
    {
      "cell_type": "code",
      "source": [
        "train_dataset = cb.Pool(X_train,y_train, \n",
        "                        cat_features=categorical_indicies,\n",
        "                        #text_features=text_features,\n",
        "                        #embedding_features=embedding_features\n",
        "                        )                                                      \n",
        "test_dataset = cb.Pool(X_test,y_test,           \n",
        "                       cat_features=categorical_indicies,\n",
        "                       #text_features=text_features,\n",
        "                       #embedding_features=embedding_features\n",
        "                       )"
      ],
      "metadata": {
        "id": "1E-NSXhbmP4O"
      },
      "execution_count": null,
      "outputs": []
    },
    {
      "cell_type": "code",
      "source": [
        "model = cb.CatBoostClassifier(loss_function='MultiClass',  \n",
        "                              eval_metric='Accuracy',\n",
        "                              od_type='Iter',\n",
        "                              od_wait=1500,\n",
        "                              depth=7,\n",
        "                              iterations=3000,\n",
        "                              learning_rate=0.1,\n",
        "                              l2_leaf_reg=30,\n",
        "                              #bootstrap_type='No', #'MVS', #'Bayesian', #'Bernoulli',\n",
        "                              random_seed=63, \n",
        "                              bootstrap_type=\"No\",\n",
        "                              sampling_unit=\"Group\",\n",
        "                              max_ctr_complexity=4,\n",
        "                              #subsample=0.5, \n",
        "                              #bagging_temperature=0.5,\n",
        "                              #random_strength=0.5,\n",
        "                              #one_hot_max_size=7,\n",
        "                              leaf_estimation_method=\"Newton\", #'Gradient', #''                    \n",
        "                              )"
      ],
      "metadata": {
        "id": "TKVhXoKfmo45"
      },
      "execution_count": null,
      "outputs": []
    },
    {
      "cell_type": "code",
      "source": [
        "model.fit(X=train_dataset,\n",
        "          eval_set=test_dataset,\n",
        "          #plot_file=\"/content/drive/MyDrive/Fields_Inop/model_train.jpg\",\n",
        "          #plot=True,\n",
        "          use_best_model=True,\n",
        "          verbose=50,\n",
        "          #logging_level=\"Info\",\n",
        "         \n",
        "          )"
      ],
      "metadata": {
        "id": "RrI6inxVoBiR"
      },
      "execution_count": null,
      "outputs": []
    },
    {
      "cell_type": "markdown",
      "source": [
        "Результат"
      ],
      "metadata": {
        "id": "0ALmWeaao70f"
      }
    },
    {
      "cell_type": "code",
      "source": [
        "pred = model.predict(X_test)\n",
        "print(classification_report(y_test, pred))"
      ],
      "metadata": {
        "id": "ctQMn-ospH-o"
      },
      "execution_count": null,
      "outputs": []
    },
    {
      "cell_type": "code",
      "source": [
        "Мы можем проанализировать, какое влияние оказали наши функции, построив график важности функций.\n",
        "import numpy as np\n",
        "def plot_feature_importance(importance,names,model_type):\n",
        "   feature_importance = np.array(importance)\n",
        "   feature_names = np.array(names)\n",
        "   data={'feature_names':feature_names,\n",
        "         'feature_importance':feature_importance}\n",
        "   fi_df = pd.DataFrame(data) \n",
        "   fi_df.sort_values(by=['feature_importance'],    \n",
        "                     ascending=False,inplace=True)\n",
        "   plt.figure(figsize=(15,15))\n",
        "   sns.barplot(x=fi_df['feature_importance'], \n",
        "               y=fi_df['feature_names'])\n",
        "   plt.title(model_type + ' FEATURE IMPORTANCE')\n",
        "   plt.xlabel('FEATURE IMPORTANCE')\n",
        "   plt.ylabel('FEATURE NAMES')\n",
        "plot_feature_importance(model.get_feature_importance(),X.columns,'CATBOOST')"
      ],
      "metadata": {
        "id": "-S7ItouHpoxK"
      },
      "execution_count": null,
      "outputs": []
    },
    {
      "cell_type": "code",
      "source": [
        "#Сохранение модели\n",
        "model.save_model(\"/content/drive/MyDrive/Fields_Inop/last_model_98nan.cbm\",\n",
        "           format=\"cbm\",\n",
        "           export_parameters=None,\n",
        "           pool=None)"
      ],
      "metadata": {
        "id": "qJT_7Vs7pJLp"
      },
      "execution_count": null,
      "outputs": []
    },
    {
      "cell_type": "code",
      "source": [
        "#Загрузка модели\n",
        "model = cb.CatBoostClassifier()\n",
        "model.load_model(\"/content/drive/MyDrive/Fields_Inop/last_model_97nan.cbm\")"
      ],
      "metadata": {
        "id": "h5oSEyBxpXq1"
      },
      "execution_count": null,
      "outputs": []
    },
    {
      "cell_type": "code",
      "source": [],
      "metadata": {
        "id": "zugB64vspg-Q"
      },
      "execution_count": null,
      "outputs": []
    }
  ]
}